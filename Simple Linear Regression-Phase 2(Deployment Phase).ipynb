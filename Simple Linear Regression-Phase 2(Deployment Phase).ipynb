{
 "cells": [
  {
   "cell_type": "code",
   "execution_count": 2,
   "id": "4882fb03-7618-4076-b27c-01462ebea16a",
   "metadata": {},
   "outputs": [
    {
     "name": "stderr",
     "output_type": "stream",
     "text": [
      "C:\\Users\\Thenm\\anaconda3\\Lib\\site-packages\\sklearn\\base.py:493: UserWarning: X does not have valid feature names, but LinearRegression was fitted with feature names\n",
      "  warnings.warn(\n"
     ]
    },
    {
     "data": {
      "text/plain": [
       "array([[185901.83320649]])"
      ]
     },
     "execution_count": 2,
     "metadata": {},
     "output_type": "execute_result"
    }
   ],
   "source": [
    "import pickle     #hence we saved the model using pickle module, so importing pickle library\n",
    "loaded_model=pickle.load(open(\"finalized_model_linear.sav\",'rb'))  #opening the loaded file name with its proper extension to read the file using rb\n",
    "result=loaded_model.predict([[17]])    #enter the required input, means the years fo experience\n",
    "result                                 #run to get your result predicted using this model\n"
   ]
  },
  {
   "cell_type": "code",
   "execution_count": null,
   "id": "4855c91b-ec25-48c9-a401-46be7b4c9a36",
   "metadata": {},
   "outputs": [],
   "source": []
  }
 ],
 "metadata": {
  "kernelspec": {
   "display_name": "Python 3 (ipykernel)",
   "language": "python",
   "name": "python3"
  },
  "language_info": {
   "codemirror_mode": {
    "name": "ipython",
    "version": 3
   },
   "file_extension": ".py",
   "mimetype": "text/x-python",
   "name": "python",
   "nbconvert_exporter": "python",
   "pygments_lexer": "ipython3",
   "version": "3.12.7"
  }
 },
 "nbformat": 4,
 "nbformat_minor": 5
}
